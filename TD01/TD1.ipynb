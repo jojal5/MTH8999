{
 "cells": [
  {
   "cell_type": "markdown",
   "metadata": {},
   "source": [
    "# MTH8999 : Analyse des valeurs extrêmes en environnement\n",
    "\n",
    "Jonathan Jalbert<br/>\n",
    "Professeur agrégé au Département de mathématiques et de génie industriel<br/>\n",
    "Polytechnique Montréal<br/>\n",
    "\n",
    "\n",
    "# TD 1 - Rappel de probabilités\n",
    "\n",
    "Ce TD constitue une introduction au langage Julia et au calepin Jupyter. Il a pour but d'introduire les commandes de base de Julia ainsi que les fonctionnalités des librairies qui seront utilse dans le cours.\n",
    "\n",
    "Commençons par charger les librairies nécessaires. Si elles ne sont pas installées, vous pouvez le faire avec les commandes suivantes :\n",
    "\n",
    "```\n",
    "using Pkg\n",
    "Pkg.add([\"CSV\", \"DataFrames\" ,\"Distributions\", \"Gadfly\"])\n",
    "```"
   ]
  },
  {
   "cell_type": "code",
   "execution_count": null,
   "metadata": {},
   "outputs": [],
   "source": [
    "using CSV              # Pour charger les fichiers CSV\n",
    "using DataFrames       # Pour utiliser la structure DataFrame pour stocker les données\n",
    "using Distributions    # Pour utiliser les lois de probabilités classiques\n",
    "using Gadfly           # Pour tracer des graphiques\n",
    "using Statistics       # Pour les functions statistiques de base"
   ]
  },
  {
   "cell_type": "markdown",
   "metadata": {},
   "source": [
    "# Exercice 1\n",
    "\n",
    "Dans cet exercice, vous devrez charger les données météorologiques enregistrées à l'Aéroport Pierre-Elliot-Trudeau à Montréal et afficher les températures annuelles maximales. Les étapes sont les suivantes :\n",
    "\n",
    "1. Chargement du fichier de données.\n",
    "2. Récupération des années complètes uniquement.\n",
    "3. Extraction des températures annuelles maximales.\n",
    "4. Affichage des températures annuelles maximales en fonction des années.\n"
   ]
  },
  {
   "cell_type": "markdown",
   "metadata": {},
   "source": [
    "## 1.1. Chargement du fichier de données\n",
    "\n",
    "Le chargement du fichier CSV contenant les données se fait en utilisant la fonction `CSV.read()` en ajoutant l'argument `DataFrame`."
   ]
  },
  {
   "cell_type": "code",
   "execution_count": null,
   "metadata": {},
   "outputs": [],
   "source": [
    "data = CSV.read(\"meteoMontreal.csv\", DataFrame)\n",
    "\n",
    "first(data,5) # Affiche uniquement les 5 premières lignes de data"
   ]
  },
  {
   "cell_type": "markdown",
   "metadata": {},
   "source": [
    "## 1.2 Sélection des colonnes d'intérêts\n",
    "\n",
    "Sélectionnez les colonnes\n",
    "- :LOCAL_YEAR\n",
    "- :LOCAL_MONTH\n",
    "- :LOCAL_DAY\n",
    "- :MAX_TEMPERATURE\n",
    "\n",
    "du DataFrame avec la fonction `select()` ou `select!()`."
   ]
  },
  {
   "cell_type": "code",
   "execution_count": null,
   "metadata": {},
   "outputs": [],
   "source": []
  },
  {
   "cell_type": "markdown",
   "metadata": {},
   "source": [
    "## 1.3 Récupération des années complètes\n",
    "\n",
    "Pour que les maxima annuels aient du sens, il faut qu'ils soient pris sur l'année complète. Par exemple, on ne veut pas récupérer le maximum annuel d'une année où l'été n'a pas été enregistré. Pour la station en question, il faut retirer les années 1941 et 2013 qui sont incomplètes.\n",
    "\n",
    "Retirez du DataFrame les lignes qui correspondent aux années 1941 et 2013."
   ]
  },
  {
   "cell_type": "code",
   "execution_count": null,
   "metadata": {},
   "outputs": [],
   "source": []
  },
  {
   "cell_type": "markdown",
   "metadata": {},
   "source": [
    "## 1.4 Récupération des données enregistrées\n",
    "\n",
    "Ignorez les lignes du DataFrame qui correspondent à des températures manquantes avec la fonction `dropmissing()` ou `dropmissing!()`."
   ]
  },
  {
   "cell_type": "code",
   "execution_count": null,
   "metadata": {},
   "outputs": [],
   "source": []
  },
  {
   "cell_type": "markdown",
   "metadata": {},
   "source": [
    "## 1.5.  Extraction des températures maximales annuelles\n",
    "\n",
    "Extrayez les maxima annuels de température enregistrés à Montréal. Il y a plusieurs façons de procéder. Je vous propose d'utiliser les fonctions `combine()` et `groupby()` de la librairie *DataFrame* pour manipuler aisément les données dans un DataFrame."
   ]
  },
  {
   "cell_type": "code",
   "execution_count": null,
   "metadata": {},
   "outputs": [],
   "source": []
  },
  {
   "cell_type": "markdown",
   "metadata": {},
   "source": [
    "## 1.6. Affichage des températures annuelles maximales en fonction des années.\n",
    "\n",
    "Lorsque les données à afficher sont dans un DataFrame, le traçage des graphiques est simple avec Gadfly. Il suffit de mentionner quelle colonne est le $x$ et quelle colonne est le $y$."
   ]
  },
  {
   "cell_type": "code",
   "execution_count": null,
   "metadata": {},
   "outputs": [],
   "source": []
  },
  {
   "cell_type": "code",
   "execution_count": null,
   "metadata": {},
   "outputs": [],
   "source": []
  }
 ],
 "metadata": {
  "@webio": {
   "lastCommId": null,
   "lastKernelId": null
  },
  "kernelspec": {
   "display_name": "Julia 1.10.7",
   "language": "julia",
   "name": "julia-1.10"
  },
  "language_info": {
   "file_extension": ".jl",
   "mimetype": "application/julia",
   "name": "julia",
   "version": "1.10.7"
  }
 },
 "nbformat": 4,
 "nbformat_minor": 2
}
