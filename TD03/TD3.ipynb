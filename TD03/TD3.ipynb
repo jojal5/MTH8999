{
 "cells": [
  {
   "cell_type": "markdown",
   "id": "6a3e8712",
   "metadata": {},
   "source": [
    "# MTH8999 : Analyse des valeurs extrêmes en environnement\n",
    "\n",
    "Jonathan Jalbert<br/>\n",
    "Professeur agrégé au Département de mathématiques et de génie industriel<br/>\n",
    "Polytechnique Montréal<br/>\n",
    "\n",
    "\n",
    "# Chapitre 1 à 4 - Applications\n",
    "\n",
    "Applications avec des données réelles. Vous pouvez utiliser n'importe laquelle des méthodes vues en classe, ou même une combinaison de celles-ci, afin de comparer les résultats.\n"
   ]
  },
  {
   "cell_type": "code",
   "execution_count": 1,
   "id": "505579f8",
   "metadata": {},
   "outputs": [],
   "source": [
    "using CSV, DataFrames, Dates, Distributions, Extremes, Gadfly"
   ]
  },
  {
   "cell_type": "markdown",
   "id": "48486db3",
   "metadata": {},
   "source": [
    "La fonction suivante est utilse pour partitionner en blocs, mais si le nombre de données est non divisible par la taille de bloc désirée."
   ]
  },
  {
   "cell_type": "code",
   "execution_count": 2,
   "id": "79860e80",
   "metadata": {},
   "outputs": [
    {
     "data": {
      "text/plain": [
       "blockpartition"
      ]
     },
     "execution_count": 2,
     "metadata": {},
     "output_type": "execute_result"
    }
   ],
   "source": [
    "\"\"\"\n",
    "    blockpartition(x::AbstractArray{<:Real}, m::Int)\n",
    "\n",
    "Paritionne en matrice à m `lignes` le vecteur `x`.\n",
    "\n",
    "##Détail\n",
    "\n",
    "Si le vecteur `x` ne se divise pas en `m`, les premières valeurs de `x` sont rejetées.\n",
    "\"\"\"\n",
    "function blockpartition(x::AbstractArray{<:Real}, m::Int)\n",
    "    \n",
    "    n = length(x)\n",
    "    \n",
    "    quotient = floor(Int64, n/m)\n",
    "    reste = n % m\n",
    "    \n",
    "    y = x[reste+1:end]\n",
    "    \n",
    "    return reshape(y, m, quotient)\n",
    "    \n",
    "end"
   ]
  },
  {
   "cell_type": "markdown",
   "id": "7161f1ce",
   "metadata": {},
   "source": [
    "# Exercice 1 - Débits de la rivière Chaudière\n",
    "\n",
    "Le fichier chaudière.csv contient les maxima annuels des débits en m³/s de la rivère Chaudière de 1961 à 2020.\n",
    "\n",
    "À partir de ces données, \n",
    "\n",
    "1. Estimez le débit qui est dépassé en moyenne une fois aux 100 ans.\n",
    "2. Estimez la période de retour de 2500 m³/s. Autement dit, combien d'années en moyenne il faut attendre pour observer un débit excédent 2500 m³/s ?\n",
    "3. Estimez le débit qui ne pourrait jamais être dépassé."
   ]
  },
  {
   "cell_type": "code",
   "execution_count": 3,
   "id": "651941bf",
   "metadata": {},
   "outputs": [
    {
     "data": {
      "text/html": [
       "<div><div style = \"float: left;\"><span>5×2 DataFrame</span></div><div style = \"clear: both;\"></div></div><div class = \"data-frame\" style = \"overflow-x: scroll;\"><table class = \"data-frame\" style = \"margin-bottom: 6px;\"><thead><tr class = \"header\"><th class = \"rowNumber\" style = \"font-weight: bold; text-align: right;\">Row</th><th style = \"text-align: left;\">Year</th><th style = \"text-align: left;\">Discharge</th></tr><tr class = \"subheader headerLastRow\"><th class = \"rowNumber\" style = \"font-weight: bold; text-align: right;\"></th><th title = \"Int64\" style = \"text-align: left;\">Int64</th><th title = \"Float64\" style = \"text-align: left;\">Float64</th></tr></thead><tbody><tr><td class = \"rowNumber\" style = \"font-weight: bold; text-align: right;\">1</td><td style = \"text-align: right;\">1961</td><td style = \"text-align: right;\">851.452</td></tr><tr><td class = \"rowNumber\" style = \"font-weight: bold; text-align: right;\">2</td><td style = \"text-align: right;\">1962</td><td style = \"text-align: right;\">784.852</td></tr><tr><td class = \"rowNumber\" style = \"font-weight: bold; text-align: right;\">3</td><td style = \"text-align: right;\">1963</td><td style = \"text-align: right;\">1224.8</td></tr><tr><td class = \"rowNumber\" style = \"font-weight: bold; text-align: right;\">4</td><td style = \"text-align: right;\">1964</td><td style = \"text-align: right;\">1235.38</td></tr><tr><td class = \"rowNumber\" style = \"font-weight: bold; text-align: right;\">5</td><td style = \"text-align: right;\">1965</td><td style = \"text-align: right;\">591.892</td></tr></tbody></table></div>"
      ],
      "text/latex": [
       "\\begin{tabular}{r|cc}\n",
       "\t& Year & Discharge\\\\\n",
       "\t\\hline\n",
       "\t& Int64 & Float64\\\\\n",
       "\t\\hline\n",
       "\t1 & 1961 & 851.452 \\\\\n",
       "\t2 & 1962 & 784.852 \\\\\n",
       "\t3 & 1963 & 1224.8 \\\\\n",
       "\t4 & 1964 & 1235.38 \\\\\n",
       "\t5 & 1965 & 591.892 \\\\\n",
       "\\end{tabular}\n"
      ],
      "text/plain": [
       "\u001b[1m5×2 DataFrame\u001b[0m\n",
       "\u001b[1m Row \u001b[0m│\u001b[1m Year  \u001b[0m\u001b[1m Discharge \u001b[0m\n",
       "     │\u001b[90m Int64 \u001b[0m\u001b[90m Float64   \u001b[0m\n",
       "─────┼──────────────────\n",
       "   1 │  1961    851.452\n",
       "   2 │  1962    784.852\n",
       "   3 │  1963   1224.8\n",
       "   4 │  1964   1235.38\n",
       "   5 │  1965    591.892"
      ]
     },
     "execution_count": 3,
     "metadata": {},
     "output_type": "execute_result"
    }
   ],
   "source": [
    "data = CSV.read(\"chaudiere.csv\", DataFrame)\n",
    "\n",
    "first(data, 5)"
   ]
  },
  {
   "cell_type": "code",
   "execution_count": null,
   "id": "2d6a1eb5",
   "metadata": {},
   "outputs": [],
   "source": []
  },
  {
   "cell_type": "markdown",
   "id": "bfcd61e1",
   "metadata": {},
   "source": [
    "# Exercice 2 - Niveaux de la mer à Fremantle\n",
    "\n",
    "Le fichier fremantle.csv contient les maxima annuels des niveaux de la mer en m à Fremantle en Australie de 1897 à 2022\n",
    "\n",
    "À partir de ces données, \n",
    "\n",
    "1. Estimez le niveau qui est dépassé en moyenne une fois aux 100 ans.\n",
    "2. Estimez la probabilité que le niveau n'excède pas 6.9 m en 2025 ?"
   ]
  },
  {
   "cell_type": "code",
   "execution_count": 4,
   "id": "e5d12ffd",
   "metadata": {},
   "outputs": [
    {
     "data": {
      "text/html": [
       "<div><div style = \"float: left;\"><span>5×2 DataFrame</span></div><div style = \"clear: both;\"></div></div><div class = \"data-frame\" style = \"overflow-x: scroll;\"><table class = \"data-frame\" style = \"margin-bottom: 6px;\"><thead><tr class = \"header\"><th class = \"rowNumber\" style = \"font-weight: bold; text-align: right;\">Row</th><th style = \"text-align: left;\">Year</th><th style = \"text-align: left;\">SeaLevel</th></tr><tr class = \"subheader headerLastRow\"><th class = \"rowNumber\" style = \"font-weight: bold; text-align: right;\"></th><th title = \"Int64\" style = \"text-align: left;\">Int64</th><th title = \"Float64\" style = \"text-align: left;\">Float64</th></tr></thead><tbody><tr><td class = \"rowNumber\" style = \"font-weight: bold; text-align: right;\">1</td><td style = \"text-align: right;\">1897</td><td style = \"text-align: right;\">6.569</td></tr><tr><td class = \"rowNumber\" style = \"font-weight: bold; text-align: right;\">2</td><td style = \"text-align: right;\">1898</td><td style = \"text-align: right;\">6.641</td></tr><tr><td class = \"rowNumber\" style = \"font-weight: bold; text-align: right;\">3</td><td style = \"text-align: right;\">1901</td><td style = \"text-align: right;\">6.618</td></tr><tr><td class = \"rowNumber\" style = \"font-weight: bold; text-align: right;\">4</td><td style = \"text-align: right;\">1903</td><td style = \"text-align: right;\">6.61</td></tr><tr><td class = \"rowNumber\" style = \"font-weight: bold; text-align: right;\">5</td><td style = \"text-align: right;\">1904</td><td style = \"text-align: right;\">6.648</td></tr></tbody></table></div>"
      ],
      "text/latex": [
       "\\begin{tabular}{r|cc}\n",
       "\t& Year & SeaLevel\\\\\n",
       "\t\\hline\n",
       "\t& Int64 & Float64\\\\\n",
       "\t\\hline\n",
       "\t1 & 1897 & 6.569 \\\\\n",
       "\t2 & 1898 & 6.641 \\\\\n",
       "\t3 & 1901 & 6.618 \\\\\n",
       "\t4 & 1903 & 6.61 \\\\\n",
       "\t5 & 1904 & 6.648 \\\\\n",
       "\\end{tabular}\n"
      ],
      "text/plain": [
       "\u001b[1m5×2 DataFrame\u001b[0m\n",
       "\u001b[1m Row \u001b[0m│\u001b[1m Year  \u001b[0m\u001b[1m SeaLevel \u001b[0m\n",
       "     │\u001b[90m Int64 \u001b[0m\u001b[90m Float64  \u001b[0m\n",
       "─────┼─────────────────\n",
       "   1 │  1897     6.569\n",
       "   2 │  1898     6.641\n",
       "   3 │  1901     6.618\n",
       "   4 │  1903     6.61\n",
       "   5 │  1904     6.648"
      ]
     },
     "execution_count": 4,
     "metadata": {},
     "output_type": "execute_result"
    }
   ],
   "source": [
    "data = CSV.read(\"fremantle.csv\", DataFrame)\n",
    "\n",
    "first(data, 5)"
   ]
  },
  {
   "cell_type": "code",
   "execution_count": null,
   "id": "6488f9e3",
   "metadata": {},
   "outputs": [],
   "source": []
  },
  {
   "cell_type": "markdown",
   "id": "3a4d51b5",
   "metadata": {},
   "source": [
    "# Exercice 3 - Températures maximales journalières à Montréal\n",
    "\n",
    "Le fichier tasmax.csv contient les températures maximales journalières en Celcius à Montréal de 1942 à 2025.\n",
    "\n",
    "À partir de ces données, \n",
    "\n",
    "1. Estimez la temprature qui est dépassée en moyenne une fois aux 5 ans.\n",
    "2. Estimez un intervalle de confiance à 95 % pour cette valeur.\n",
    "3. Comparez cette estimation au quantile empirique."
   ]
  },
  {
   "cell_type": "code",
   "execution_count": 5,
   "id": "19950424",
   "metadata": {},
   "outputs": [
    {
     "data": {
      "text/html": [
       "<div><div style = \"float: left;\"><span>5×6 DataFrame</span></div><div style = \"clear: both;\"></div></div><div class = \"data-frame\" style = \"overflow-x: scroll;\"><table class = \"data-frame\" style = \"margin-bottom: 6px;\"><thead><tr class = \"header\"><th class = \"rowNumber\" style = \"font-weight: bold; text-align: right;\">Row</th><th style = \"text-align: left;\">Longitude</th><th style = \"text-align: left;\">Latitude</th><th style = \"text-align: left;\">Name</th><th style = \"text-align: left;\">ID</th><th style = \"text-align: left;\">Date</th><th style = \"text-align: left;\">tasmax</th></tr><tr class = \"subheader headerLastRow\"><th class = \"rowNumber\" style = \"font-weight: bold; text-align: right;\"></th><th title = \"Float64\" style = \"text-align: left;\">Float64</th><th title = \"Float64\" style = \"text-align: left;\">Float64</th><th title = \"String\" style = \"text-align: left;\">String</th><th title = \"Int64\" style = \"text-align: left;\">Int64</th><th title = \"Date\" style = \"text-align: left;\">Date</th><th title = \"Union{Missing, Float64}\" style = \"text-align: left;\">Float64?</th></tr></thead><tbody><tr><td class = \"rowNumber\" style = \"font-weight: bold; text-align: right;\">1</td><td style = \"text-align: right;\">-73.74</td><td style = \"text-align: right;\">45.47</td><td style = \"text-align: left;\">MONTREAL INTL A</td><td style = \"text-align: right;\">7025251</td><td style = \"text-align: left;\">2024-12-27</td><td style = \"text-align: right;\">-6.3</td></tr><tr><td class = \"rowNumber\" style = \"font-weight: bold; text-align: right;\">2</td><td style = \"text-align: right;\">-73.74</td><td style = \"text-align: right;\">45.47</td><td style = \"text-align: left;\">MONTREAL INTL A</td><td style = \"text-align: right;\">7025251</td><td style = \"text-align: left;\">2024-12-28</td><td style = \"text-align: right;\">-2.5</td></tr><tr><td class = \"rowNumber\" style = \"font-weight: bold; text-align: right;\">3</td><td style = \"text-align: right;\">-73.74</td><td style = \"text-align: right;\">45.47</td><td style = \"text-align: left;\">MONTREAL INTL A</td><td style = \"text-align: right;\">7025251</td><td style = \"text-align: left;\">2024-12-29</td><td style = \"text-align: right;\">7.8</td></tr><tr><td class = \"rowNumber\" style = \"font-weight: bold; text-align: right;\">4</td><td style = \"text-align: right;\">-73.74</td><td style = \"text-align: right;\">45.47</td><td style = \"text-align: left;\">MONTREAL INTL A</td><td style = \"text-align: right;\">7025251</td><td style = \"text-align: left;\">2024-12-30</td><td style = \"text-align: right;\">11.2</td></tr><tr><td class = \"rowNumber\" style = \"font-weight: bold; text-align: right;\">5</td><td style = \"text-align: right;\">-73.74</td><td style = \"text-align: right;\">45.47</td><td style = \"text-align: left;\">MONTREAL INTL A</td><td style = \"text-align: right;\">7025251</td><td style = \"text-align: left;\">2024-12-31</td><td style = \"text-align: right;\">6.0</td></tr></tbody></table></div>"
      ],
      "text/latex": [
       "\\begin{tabular}{r|cccccc}\n",
       "\t& Longitude & Latitude & Name & ID & Date & tasmax\\\\\n",
       "\t\\hline\n",
       "\t& Float64 & Float64 & String & Int64 & Date & Float64?\\\\\n",
       "\t\\hline\n",
       "\t1 & -73.74 & 45.47 & MONTREAL INTL A & 7025251 & 2024-12-27 & -6.3 \\\\\n",
       "\t2 & -73.74 & 45.47 & MONTREAL INTL A & 7025251 & 2024-12-28 & -2.5 \\\\\n",
       "\t3 & -73.74 & 45.47 & MONTREAL INTL A & 7025251 & 2024-12-29 & 7.8 \\\\\n",
       "\t4 & -73.74 & 45.47 & MONTREAL INTL A & 7025251 & 2024-12-30 & 11.2 \\\\\n",
       "\t5 & -73.74 & 45.47 & MONTREAL INTL A & 7025251 & 2024-12-31 & 6.0 \\\\\n",
       "\\end{tabular}\n"
      ],
      "text/plain": [
       "\u001b[1m5×6 DataFrame\u001b[0m\n",
       "\u001b[1m Row \u001b[0m│\u001b[1m Longitude \u001b[0m\u001b[1m Latitude \u001b[0m\u001b[1m Name            \u001b[0m\u001b[1m ID      \u001b[0m\u001b[1m Date       \u001b[0m\u001b[1m tasmax   \u001b[0m\n",
       "     │\u001b[90m Float64   \u001b[0m\u001b[90m Float64  \u001b[0m\u001b[90m String          \u001b[0m\u001b[90m Int64   \u001b[0m\u001b[90m Date       \u001b[0m\u001b[90m Float64? \u001b[0m\n",
       "─────┼─────────────────────────────────────────────────────────────────────\n",
       "   1 │    -73.74     45.47  MONTREAL INTL A  7025251  2024-12-27      -6.3\n",
       "   2 │    -73.74     45.47  MONTREAL INTL A  7025251  2024-12-28      -2.5\n",
       "   3 │    -73.74     45.47  MONTREAL INTL A  7025251  2024-12-29       7.8\n",
       "   4 │    -73.74     45.47  MONTREAL INTL A  7025251  2024-12-30      11.2\n",
       "   5 │    -73.74     45.47  MONTREAL INTL A  7025251  2024-12-31       6.0"
      ]
     },
     "execution_count": 5,
     "metadata": {},
     "output_type": "execute_result"
    }
   ],
   "source": [
    "data = CSV.read(\"tasmax.csv\", DataFrame)\n",
    "filter!(row -> year(row.Date) > 1941, data)\n",
    "last(data, 5)"
   ]
  },
  {
   "cell_type": "code",
   "execution_count": null,
   "id": "afc83002",
   "metadata": {},
   "outputs": [],
   "source": []
  },
  {
   "cell_type": "markdown",
   "id": "544e8555",
   "metadata": {},
   "source": [
    "# Exercice 4 - Pertes journalières de l'action S&P 500\n",
    "\n",
    "Le S&P 500 est un indice boursier basé sur 500 grandes sociétés cotées sur les bourses aux États-Unis.\n",
    "\n",
    "Le fichier SPX.csv contient les valeurs du titre à la fermeture, à l'ouverture, ainsi que le maximum et le minimum de la valeur dans la journée.\n",
    "\n",
    "À partir de ces données, \n",
    "\n",
    "1. Calculez les pertes journalières, soit la valeur à l'ouverture - la valeur à la fermeture.\n",
    "2. Estimez la perte journalière qui a une probabilité de 1/20 d'être excédée.\n",
    "3. Estimez un intervalle de confiance à 95 % pour cette valeur."
   ]
  },
  {
   "cell_type": "code",
   "execution_count": 6,
   "id": "e52538ff",
   "metadata": {},
   "outputs": [
    {
     "data": {
      "text/html": [
       "<div><div style = \"float: left;\"><span>5×5 DataFrame</span></div><div style = \"clear: both;\"></div></div><div class = \"data-frame\" style = \"overflow-x: scroll;\"><table class = \"data-frame\" style = \"margin-bottom: 6px;\"><thead><tr class = \"header\"><th class = \"rowNumber\" style = \"font-weight: bold; text-align: right;\">Row</th><th style = \"text-align: left;\">Date</th><th style = \"text-align: left;\">Close/Last</th><th style = \"text-align: left;\">Open</th><th style = \"text-align: left;\">High</th><th style = \"text-align: left;\">Low</th></tr><tr class = \"subheader headerLastRow\"><th class = \"rowNumber\" style = \"font-weight: bold; text-align: right;\"></th><th title = \"Date\" style = \"text-align: left;\">Date</th><th title = \"Float64\" style = \"text-align: left;\">Float64</th><th title = \"Float64\" style = \"text-align: left;\">Float64</th><th title = \"Float64\" style = \"text-align: left;\">Float64</th><th title = \"Float64\" style = \"text-align: left;\">Float64</th></tr></thead><tbody><tr><td class = \"rowNumber\" style = \"font-weight: bold; text-align: right;\">1</td><td style = \"text-align: left;\">2015-02-20</td><td style = \"text-align: right;\">2110.3</td><td style = \"text-align: right;\">2097.65</td><td style = \"text-align: right;\">2110.61</td><td style = \"text-align: right;\">2085.44</td></tr><tr><td class = \"rowNumber\" style = \"font-weight: bold; text-align: right;\">2</td><td style = \"text-align: left;\">2015-02-19</td><td style = \"text-align: right;\">2097.45</td><td style = \"text-align: right;\">2099.25</td><td style = \"text-align: right;\">2102.13</td><td style = \"text-align: right;\">2090.79</td></tr><tr><td class = \"rowNumber\" style = \"font-weight: bold; text-align: right;\">3</td><td style = \"text-align: left;\">2015-02-18</td><td style = \"text-align: right;\">2099.68</td><td style = \"text-align: right;\">2099.16</td><td style = \"text-align: right;\">2100.23</td><td style = \"text-align: right;\">2092.15</td></tr><tr><td class = \"rowNumber\" style = \"font-weight: bold; text-align: right;\">4</td><td style = \"text-align: left;\">2015-02-17</td><td style = \"text-align: right;\">2100.34</td><td style = \"text-align: right;\">2096.47</td><td style = \"text-align: right;\">2101.3</td><td style = \"text-align: right;\">2089.8</td></tr><tr><td class = \"rowNumber\" style = \"font-weight: bold; text-align: right;\">5</td><td style = \"text-align: left;\">2015-02-16</td><td style = \"text-align: right;\">2096.99</td><td style = \"text-align: right;\">0.0</td><td style = \"text-align: right;\">0.0</td><td style = \"text-align: right;\">0.0</td></tr></tbody></table></div>"
      ],
      "text/latex": [
       "\\begin{tabular}{r|ccccc}\n",
       "\t& Date & Close/Last & Open & High & Low\\\\\n",
       "\t\\hline\n",
       "\t& Date & Float64 & Float64 & Float64 & Float64\\\\\n",
       "\t\\hline\n",
       "\t1 & 2015-02-20 & 2110.3 & 2097.65 & 2110.61 & 2085.44 \\\\\n",
       "\t2 & 2015-02-19 & 2097.45 & 2099.25 & 2102.13 & 2090.79 \\\\\n",
       "\t3 & 2015-02-18 & 2099.68 & 2099.16 & 2100.23 & 2092.15 \\\\\n",
       "\t4 & 2015-02-17 & 2100.34 & 2096.47 & 2101.3 & 2089.8 \\\\\n",
       "\t5 & 2015-02-16 & 2096.99 & 0.0 & 0.0 & 0.0 \\\\\n",
       "\\end{tabular}\n"
      ],
      "text/plain": [
       "\u001b[1m5×5 DataFrame\u001b[0m\n",
       "\u001b[1m Row \u001b[0m│\u001b[1m Date       \u001b[0m\u001b[1m Close/Last \u001b[0m\u001b[1m Open    \u001b[0m\u001b[1m High    \u001b[0m\u001b[1m Low     \u001b[0m\n",
       "     │\u001b[90m Date       \u001b[0m\u001b[90m Float64    \u001b[0m\u001b[90m Float64 \u001b[0m\u001b[90m Float64 \u001b[0m\u001b[90m Float64 \u001b[0m\n",
       "─────┼───────────────────────────────────────────────────\n",
       "   1 │ 2015-02-20     2110.3   2097.65  2110.61  2085.44\n",
       "   2 │ 2015-02-19     2097.45  2099.25  2102.13  2090.79\n",
       "   3 │ 2015-02-18     2099.68  2099.16  2100.23  2092.15\n",
       "   4 │ 2015-02-17     2100.34  2096.47  2101.3   2089.8\n",
       "   5 │ 2015-02-16     2096.99     0.0      0.0      0.0"
      ]
     },
     "execution_count": 6,
     "metadata": {},
     "output_type": "execute_result"
    }
   ],
   "source": [
    "data = CSV.read(\"SPX.csv\", DataFrame)\n",
    "\n",
    "data.Date = Date.(data.Date, DateFormat(\"m/d/y\"))\n",
    "\n",
    "last(data, 5)"
   ]
  },
  {
   "cell_type": "code",
   "execution_count": 7,
   "id": "b824f9ee",
   "metadata": {},
   "outputs": [
    {
     "data": {
      "text/html": [
       "<div><div style = \"float: left;\"><span>5×6 DataFrame</span></div><div style = \"clear: both;\"></div></div><div class = \"data-frame\" style = \"overflow-x: scroll;\"><table class = \"data-frame\" style = \"margin-bottom: 6px;\"><thead><tr class = \"header\"><th class = \"rowNumber\" style = \"font-weight: bold; text-align: right;\">Row</th><th style = \"text-align: left;\">Date</th><th style = \"text-align: left;\">Close/Last</th><th style = \"text-align: left;\">Open</th><th style = \"text-align: left;\">High</th><th style = \"text-align: left;\">Low</th><th style = \"text-align: left;\">DailyLoss</th></tr><tr class = \"subheader headerLastRow\"><th class = \"rowNumber\" style = \"font-weight: bold; text-align: right;\"></th><th title = \"Date\" style = \"text-align: left;\">Date</th><th title = \"Float64\" style = \"text-align: left;\">Float64</th><th title = \"Float64\" style = \"text-align: left;\">Float64</th><th title = \"Float64\" style = \"text-align: left;\">Float64</th><th title = \"Float64\" style = \"text-align: left;\">Float64</th><th title = \"Float64\" style = \"text-align: left;\">Float64</th></tr></thead><tbody><tr><td class = \"rowNumber\" style = \"font-weight: bold; text-align: right;\">1</td><td style = \"text-align: left;\">2015-02-23</td><td style = \"text-align: right;\">2109.66</td><td style = \"text-align: right;\">2109.83</td><td style = \"text-align: right;\">2110.05</td><td style = \"text-align: right;\">2103.0</td><td style = \"text-align: right;\">0.17</td></tr><tr><td class = \"rowNumber\" style = \"font-weight: bold; text-align: right;\">2</td><td style = \"text-align: left;\">2015-02-20</td><td style = \"text-align: right;\">2110.3</td><td style = \"text-align: right;\">2097.65</td><td style = \"text-align: right;\">2110.61</td><td style = \"text-align: right;\">2085.44</td><td style = \"text-align: right;\">-12.65</td></tr><tr><td class = \"rowNumber\" style = \"font-weight: bold; text-align: right;\">3</td><td style = \"text-align: left;\">2015-02-19</td><td style = \"text-align: right;\">2097.45</td><td style = \"text-align: right;\">2099.25</td><td style = \"text-align: right;\">2102.13</td><td style = \"text-align: right;\">2090.79</td><td style = \"text-align: right;\">1.8</td></tr><tr><td class = \"rowNumber\" style = \"font-weight: bold; text-align: right;\">4</td><td style = \"text-align: left;\">2015-02-18</td><td style = \"text-align: right;\">2099.68</td><td style = \"text-align: right;\">2099.16</td><td style = \"text-align: right;\">2100.23</td><td style = \"text-align: right;\">2092.15</td><td style = \"text-align: right;\">-0.52</td></tr><tr><td class = \"rowNumber\" style = \"font-weight: bold; text-align: right;\">5</td><td style = \"text-align: left;\">2015-02-17</td><td style = \"text-align: right;\">2100.34</td><td style = \"text-align: right;\">2096.47</td><td style = \"text-align: right;\">2101.3</td><td style = \"text-align: right;\">2089.8</td><td style = \"text-align: right;\">-3.87</td></tr></tbody></table></div>"
      ],
      "text/latex": [
       "\\begin{tabular}{r|cccccc}\n",
       "\t& Date & Close/Last & Open & High & Low & DailyLoss\\\\\n",
       "\t\\hline\n",
       "\t& Date & Float64 & Float64 & Float64 & Float64 & Float64\\\\\n",
       "\t\\hline\n",
       "\t1 & 2015-02-23 & 2109.66 & 2109.83 & 2110.05 & 2103.0 & 0.17 \\\\\n",
       "\t2 & 2015-02-20 & 2110.3 & 2097.65 & 2110.61 & 2085.44 & -12.65 \\\\\n",
       "\t3 & 2015-02-19 & 2097.45 & 2099.25 & 2102.13 & 2090.79 & 1.8 \\\\\n",
       "\t4 & 2015-02-18 & 2099.68 & 2099.16 & 2100.23 & 2092.15 & -0.52 \\\\\n",
       "\t5 & 2015-02-17 & 2100.34 & 2096.47 & 2101.3 & 2089.8 & -3.87 \\\\\n",
       "\\end{tabular}\n"
      ],
      "text/plain": [
       "\u001b[1m5×6 DataFrame\u001b[0m\n",
       "\u001b[1m Row \u001b[0m│\u001b[1m Date       \u001b[0m\u001b[1m Close/Last \u001b[0m\u001b[1m Open    \u001b[0m\u001b[1m High    \u001b[0m\u001b[1m Low     \u001b[0m\u001b[1m DailyLoss \u001b[0m\n",
       "     │\u001b[90m Date       \u001b[0m\u001b[90m Float64    \u001b[0m\u001b[90m Float64 \u001b[0m\u001b[90m Float64 \u001b[0m\u001b[90m Float64 \u001b[0m\u001b[90m Float64   \u001b[0m\n",
       "─────┼──────────────────────────────────────────────────────────────\n",
       "   1 │ 2015-02-23     2109.66  2109.83  2110.05  2103.0        0.17\n",
       "   2 │ 2015-02-20     2110.3   2097.65  2110.61  2085.44     -12.65\n",
       "   3 │ 2015-02-19     2097.45  2099.25  2102.13  2090.79       1.8\n",
       "   4 │ 2015-02-18     2099.68  2099.16  2100.23  2092.15      -0.52\n",
       "   5 │ 2015-02-17     2100.34  2096.47  2101.3   2089.8       -3.87"
      ]
     },
     "execution_count": 7,
     "metadata": {},
     "output_type": "execute_result"
    }
   ],
   "source": [
    "data.DailyLoss = data[:, :Open] - data[:,Symbol(\"Close/Last\")]\n",
    "filter!(row -> row.Open >0., data)\n",
    "\n",
    "last(data, 5)"
   ]
  },
  {
   "cell_type": "code",
   "execution_count": null,
   "id": "2517c5ad",
   "metadata": {},
   "outputs": [],
   "source": []
  }
 ],
 "metadata": {
  "kernelspec": {
   "display_name": "Julia 1.10.7",
   "language": "julia",
   "name": "julia-1.10"
  },
  "language_info": {
   "file_extension": ".jl",
   "mimetype": "application/julia",
   "name": "julia",
   "version": "1.10.7"
  }
 },
 "nbformat": 4,
 "nbformat_minor": 5
}
