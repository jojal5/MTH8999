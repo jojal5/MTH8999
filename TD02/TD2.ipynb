{
 "cells": [
  {
   "cell_type": "markdown",
   "id": "51253294",
   "metadata": {},
   "source": [
    "# MTH8999 : Analyse des valeurs extrêmes en environnement\n",
    "\n",
    "Jonathan Jalbert<br/>\n",
    "Professeur agrégé au Département de mathématiques et de génie industriel<br/>\n",
    "Polytechnique Montréal<br/>\n",
    "\n",
    "\n",
    "# TD 2 - Rappel de statistique"
   ]
  },
  {
   "cell_type": "markdown",
   "id": "d5db3c60",
   "metadata": {},
   "source": [
    "using Distributions, Optim, Gadfly, Random"
   ]
  },
  {
   "cell_type": "markdown",
   "id": "4fb7a103",
   "metadata": {},
   "source": [
    "Soit la fonction de répartition de la loi Gumbel :\n",
    "\n",
    "$$F_X(x) = \\exp\\left[-\\exp\\left\\{ -(x-\\mu)\\right\\}  \\right];$$\n",
    "\n",
    "pour $x \\in \\mathbb{R}$ et $\\mu \\in \\mathbb{R}$. La cellule suivante génére un échantillon aléatoire de la loi de Gumbel."
   ]
  },
  {
   "cell_type": "code",
   "execution_count": 5,
   "id": "e25e1607",
   "metadata": {},
   "outputs": [],
   "source": [
    "x = rand(Gumbel(0,1), 50);"
   ]
  },
  {
   "cell_type": "markdown",
   "id": "4ee5d2a5",
   "metadata": {},
   "source": [
    "## Exercice 1\n",
    "\n",
    "Trouvez l'estimation du maximum de la vraisemblance pour $\\mu$ en fonction de l'échantillon."
   ]
  },
  {
   "cell_type": "code",
   "execution_count": null,
   "id": "6e86aa61",
   "metadata": {},
   "outputs": [],
   "source": []
  },
  {
   "cell_type": "markdown",
   "id": "858482b7",
   "metadata": {},
   "source": [
    "## Exercice 2\n",
    "\n",
    "Calculez un intervalle de confiance à 95% pour la vraie valeur de $\\mu$. "
   ]
  },
  {
   "cell_type": "code",
   "execution_count": null,
   "id": "167d409a",
   "metadata": {},
   "outputs": [],
   "source": []
  },
  {
   "cell_type": "markdown",
   "id": "7f63181f",
   "metadata": {},
   "source": [
    "## Exercice 3 \n",
    "\n",
    "À l'aide d'un ppplot et d'un qqpplot, statuez si le modèle obtenu s'ajuste bien aux données."
   ]
  },
  {
   "cell_type": "code",
   "execution_count": null,
   "id": "fef9b9f2",
   "metadata": {},
   "outputs": [],
   "source": []
  },
  {
   "cell_type": "markdown",
   "id": "e82c6f0b",
   "metadata": {},
   "source": [
    "## Exercice 4\n",
    "\n",
    "On s'intéresse à la quantité $\\phi = \\mu^2$. Calculez un intervalle de confiance à 95% pour $\\phi$."
   ]
  },
  {
   "cell_type": "code",
   "execution_count": null,
   "id": "970d3d70",
   "metadata": {},
   "outputs": [],
   "source": []
  }
 ],
 "metadata": {
  "kernelspec": {
   "display_name": "Julia 1.10.7",
   "language": "julia",
   "name": "julia-1.10"
  },
  "language_info": {
   "file_extension": ".jl",
   "mimetype": "application/julia",
   "name": "julia",
   "version": "1.10.7"
  }
 },
 "nbformat": 4,
 "nbformat_minor": 5
}
